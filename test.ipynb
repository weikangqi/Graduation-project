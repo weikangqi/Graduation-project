{
 "cells": [
  {
   "cell_type": "code",
   "execution_count": 1,
   "metadata": {},
   "outputs": [
    {
     "name": "stdout",
     "output_type": "stream",
     "text": [
      "Using cuda device\n"
     ]
    }
   ],
   "source": [
    "import torch\n",
    "import train_my \n",
    "from train_my import mydataset\n",
    "import torch.utils.data as Data"
   ]
  },
  {
   "cell_type": "code",
   "execution_count": null,
   "metadata": {},
   "outputs": [],
   "source": []
  },
  {
   "cell_type": "code",
   "execution_count": null,
   "metadata": {},
   "outputs": [],
   "source": []
  },
  {
   "cell_type": "code",
   "execution_count": null,
   "metadata": {},
   "outputs": [],
   "source": []
  },
  {
   "cell_type": "code",
   "execution_count": 2,
   "metadata": {},
   "outputs": [
    {
     "name": "stdout",
     "output_type": "stream",
     "text": [
      "0.weight\n",
      "0.bias\n",
      "2.weight\n",
      "2.bias\n",
      "2.running_mean\n",
      "2.running_var\n",
      "2.num_batches_tracked\n",
      "3.weight\n",
      "3.bias\n",
      "5.weight\n",
      "5.bias\n",
      "5.running_mean\n",
      "5.running_var\n",
      "5.num_batches_tracked\n",
      "6.weight\n",
      "6.bias\n",
      "8.weight\n",
      "8.bias\n",
      "8.running_mean\n",
      "8.running_var\n",
      "8.num_batches_tracked\n",
      "9.weight\n",
      "9.bias\n",
      "11.weight\n",
      "11.bias\n",
      "11.running_mean\n",
      "11.running_var\n",
      "11.num_batches_tracked\n",
      "12.weight\n",
      "12.bias\n"
     ]
    },
    {
     "data": {
      "text/plain": [
       "<All keys matched successfully>"
      ]
     },
     "execution_count": 2,
     "metadata": {},
     "output_type": "execute_result"
    }
   ],
   "source": [
    "\n",
    "net = train_my.net\n",
    "state_dic = torch.load('./classification.pth')\n",
    "new_state={}\n",
    "for k,v in state_dic.items(): #去除关键字”model\"\n",
    "    new_state=v\n",
    "for k,v in new_state.items():\n",
    "    print(k)\n",
    "net.load_state_dict(new_state)\n"
   ]
  },
  {
   "cell_type": "code",
   "execution_count": 3,
   "metadata": {},
   "outputs": [],
   "source": [
    "data = mydataset()\n",
    "batch_size = 20\n",
    "x = torch.tensor(data)         # 前五个数据\n",
    "y = torch.tensor(data.labels)  # 标签\n",
    "torch_dataset = Data.TensorDataset(x, y)\n",
    "train_iter = Data.DataLoader(\n",
    "    # 从数据库中每次抽出batch size个样本\n",
    "    dataset=torch_dataset,       # torch TensorDataset format\n",
    "    batch_size=batch_size,                # mini batch size\n",
    "    shuffle=True,                  # 要不要打乱数据 (打乱比较好)\n",
    "    num_workers=0,                 # 多线程来读数据\n",
    ")"
   ]
  },
  {
   "cell_type": "code",
   "execution_count": null,
   "metadata": {},
   "outputs": [],
   "source": []
  },
  {
   "cell_type": "code",
   "execution_count": 4,
   "metadata": {},
   "outputs": [
    {
     "name": "stdout",
     "output_type": "stream",
     "text": [
      "outY tensor([0, 0, 1, 2, 2, 0, 0, 4, 0, 0, 6, 6, 0, 1, 3, 6, 5, 2, 5, 0])\n",
      "true tensor([0, 0, 1, 2, 2, 0, 0, 4, 0, 0, 6, 6, 0, 1, 3, 6, 5, 2, 5, 0])\n",
      "1 acc:1.00\n",
      "outY tensor([1, 0, 2, 1, 0, 6, 5, 2, 2, 0, 0, 4, 5, 0, 3, 0, 1, 3, 4, 3])\n",
      "true tensor([1, 0, 2, 1, 0, 6, 5, 2, 2, 0, 0, 4, 5, 0, 3, 0, 1, 3, 4, 3])\n",
      "2 acc:1.00\n",
      "outY tensor([2, 3, 1, 0, 0, 3, 6, 5, 4, 3, 0, 2, 0, 5, 0, 0, 2, 1, 1, 5])\n",
      "true tensor([2, 3, 1, 0, 0, 3, 6, 5, 4, 3, 0, 2, 0, 5, 0, 0, 2, 1, 1, 5])\n",
      "3 acc:1.00\n",
      "outY tensor([0, 0, 0, 4, 4, 0, 0, 2, 1, 0, 0, 0, 3, 0, 0, 4, 5, 3, 1, 0])\n",
      "true tensor([0, 0, 0, 4, 4, 0, 0, 2, 1, 0, 0, 0, 3, 0, 0, 4, 5, 3, 1, 0])\n",
      "4 acc:1.00\n",
      "outY tensor([5, 3, 5, 0, 4, 1, 3, 5, 0, 3, 4, 0, 2, 0, 2, 0, 4, 5, 4, 0])\n",
      "true tensor([5, 3, 5, 0, 4, 1, 3, 5, 0, 3, 4, 0, 2, 0, 2, 0, 4, 5, 4, 0])\n",
      "5 acc:1.00\n",
      "outY tensor([0, 5, 5, 0, 2, 0, 0, 0, 1, 4, 0, 4, 4, 0, 0, 3, 0, 1, 4, 4])\n",
      "true tensor([0, 5, 5, 0, 2, 0, 0, 0, 1, 4, 0, 4, 4, 0, 0, 3, 0, 1, 4, 4])\n",
      "6 acc:1.00\n",
      "outY tensor([2, 0, 4, 5, 0, 1, 5, 0, 1, 6, 0, 0, 0, 0, 3, 3, 0, 0, 1, 0])\n",
      "true tensor([2, 0, 4, 5, 0, 1, 5, 0, 1, 6, 0, 0, 0, 6, 3, 3, 0, 0, 1, 0])\n",
      "7 acc:0.95\n",
      "outY tensor([1, 3, 3, 0, 1, 1, 1, 0, 0, 0, 0, 5, 2, 5, 0, 0, 0, 3, 0, 6])\n",
      "true tensor([1, 3, 3, 0, 1, 1, 1, 0, 0, 0, 0, 5, 2, 5, 0, 0, 0, 3, 0, 6])\n",
      "8 acc:1.00\n",
      "outY tensor([3, 0, 0, 4, 0, 0, 0, 0, 0, 5, 0, 4, 0, 0, 2, 1, 0, 3, 0, 2])\n",
      "true tensor([3, 0, 0, 4, 0, 0, 0, 0, 0, 5, 0, 4, 0, 0, 2, 6, 0, 0, 0, 2])\n",
      "9 acc:0.90\n",
      "outY tensor([0, 0, 0, 5, 0, 2, 0, 5, 3, 3, 0, 3, 6, 0, 0, 1, 5, 4, 2, 0])\n",
      "true tensor([0, 0, 0, 5, 0, 2, 0, 5, 3, 3, 0, 3, 6, 0, 0, 1, 5, 4, 2, 0])\n",
      "10 acc:1.00\n",
      "outY tensor([1, 3, 5, 5, 4, 0, 1, 0, 0, 0, 0, 4, 0, 3, 1, 1, 1, 0, 4, 3])\n",
      "true tensor([1, 3, 5, 5, 4, 0, 1, 0, 0, 0, 0, 4, 0, 3, 1, 1, 1, 0, 4, 3])\n",
      "11 acc:1.00\n",
      "outY tensor([5, 5, 4, 4, 0, 5, 4, 1, 0, 0, 1, 5, 0, 3, 2, 4, 1, 3, 0, 5])\n",
      "true tensor([5, 5, 4, 4, 0, 5, 4, 1, 0, 0, 1, 5, 0, 3, 2, 4, 1, 3, 0, 5])\n",
      "12 acc:1.00\n",
      "outY tensor([4, 5, 3, 0, 2, 0, 0, 4, 6, 0, 2, 1, 5, 3, 0, 4, 0, 1, 5, 0])\n",
      "true tensor([4, 5, 3, 0, 2, 0, 0, 4, 6, 0, 2, 1, 5, 3, 0, 4, 0, 1, 5, 0])\n",
      "13 acc:1.00\n",
      "outY tensor([0, 4, 0, 3, 6, 2, 0, 0, 0, 1, 6, 2, 5, 0, 0, 4, 3, 5, 0, 0])\n",
      "true tensor([0, 4, 0, 3, 6, 2, 0, 0, 0, 1, 6, 2, 5, 0, 0, 4, 3, 5, 0, 0])\n",
      "14 acc:1.00\n",
      "outY tensor([4, 0, 0, 5, 1, 5, 0, 2, 0, 0, 1, 3, 2, 6, 3, 4, 0, 0, 0, 0])\n",
      "true tensor([4, 0, 0, 5, 1, 5, 0, 2, 0, 0, 1, 3, 2, 6, 3, 4, 0, 0, 0, 0])\n",
      "15 acc:1.00\n",
      "outY tensor([4, 1, 2, 0, 1, 2, 4, 0, 2, 0, 4, 2, 2, 0, 0, 4, 0, 5, 3, 5])\n",
      "true tensor([4, 1, 2, 0, 1, 2, 4, 0, 2, 0, 4, 2, 2, 0, 0, 4, 0, 5, 3, 5])\n",
      "16 acc:1.00\n",
      "outY tensor([5, 0, 0, 1, 0, 0, 5, 0, 0, 2, 0, 4, 3, 0, 4, 4, 3, 0, 0, 1])\n",
      "true tensor([5, 0, 0, 0, 0, 0, 5, 0, 0, 2, 0, 4, 3, 0, 4, 4, 3, 0, 0, 0])\n",
      "17 acc:0.90\n",
      "outY tensor([4, 0, 4, 0, 6, 3, 3, 0, 0, 0, 0, 1, 6, 0, 4, 2, 4, 5, 3, 3])\n",
      "true tensor([4, 0, 4, 0, 6, 3, 3, 0, 0, 0, 0, 1, 6, 0, 4, 2, 4, 5, 3, 3])\n",
      "18 acc:1.00\n",
      "outY tensor([0, 6, 6, 0, 0, 1, 2, 0, 2, 0, 5, 3, 4, 3, 0, 4, 5, 0, 0, 5])\n",
      "true tensor([0, 6, 6, 0, 0, 6, 2, 0, 2, 0, 5, 3, 4, 3, 0, 4, 5, 0, 0, 5])\n",
      "19 acc:0.95\n",
      "outY tensor([4, 1, 0, 5, 4, 3, 4, 0, 3, 2, 4, 1, 0, 0, 0, 2, 3, 0, 1, 2])\n",
      "true tensor([4, 1, 0, 5, 4, 3, 4, 0, 3, 2, 4, 1, 6, 0, 0, 2, 3, 0, 1, 2])\n",
      "20 acc:0.95\n",
      "outY tensor([0, 0, 0, 0, 4, 5, 0, 0, 5, 0, 3, 3, 1, 4, 0, 2, 1, 0, 0, 0])\n",
      "true tensor([0, 0, 0, 0, 4, 5, 0, 0, 5, 0, 3, 3, 1, 4, 0, 2, 1, 0, 0, 0])\n",
      "21 acc:1.00\n",
      "outY tensor([0, 0, 0, 1, 1, 1, 4, 0, 4, 0, 0, 5, 1, 1, 0, 2, 1, 0, 4, 0])\n",
      "true tensor([0, 0, 0, 1, 1, 1, 4, 0, 4, 0, 0, 5, 1, 1, 0, 2, 1, 0, 4, 0])\n",
      "22 acc:1.00\n",
      "outY tensor([1, 0, 0, 4, 2, 3, 1, 0, 4, 3, 2, 1, 3, 0, 1, 4, 0, 0, 0, 2])\n",
      "true tensor([1, 0, 0, 4, 2, 3, 1, 0, 4, 3, 2, 1, 3, 0, 1, 4, 0, 0, 0, 2])\n",
      "23 acc:1.00\n",
      "outY tensor([5, 2, 3, 4, 5, 6, 1, 0, 5, 4, 2, 3, 0, 1, 5, 1, 3, 6, 0, 5])\n",
      "true tensor([5, 2, 3, 4, 5, 6, 1, 0, 5, 4, 2, 3, 0, 1, 5, 1, 3, 6, 0, 5])\n",
      "24 acc:1.00\n",
      "outY tensor([5, 4, 5, 0, 4, 3, 0, 0, 3, 0, 3, 6, 0, 2, 0, 2, 0, 1, 0, 1])\n",
      "true tensor([5, 0, 5, 0, 0, 3, 0, 0, 3, 0, 3, 6, 0, 2, 0, 2, 0, 1, 0, 1])\n",
      "25 acc:0.90\n",
      "outY tensor([0, 6, 4, 0, 4, 3, 4, 4, 5, 0, 0, 3, 2, 3, 1, 0, 3, 3, 1, 3])\n",
      "true tensor([0, 6, 4, 0, 4, 3, 4, 4, 5, 0, 0, 3, 2, 3, 1, 0, 3, 3, 1, 3])\n",
      "26 acc:1.00\n",
      "outY tensor([0, 0, 0, 1, 0, 4, 0, 6, 0, 0, 3, 5, 3, 0, 0, 6, 3, 4, 2, 0])\n",
      "true tensor([0, 0, 0, 1, 0, 4, 0, 6, 0, 0, 3, 5, 3, 0, 0, 6, 3, 4, 2, 0])\n",
      "27 acc:1.00\n",
      "outY tensor([0, 0, 3, 0, 3, 5, 0, 3, 1, 0, 4, 0, 1, 0, 0, 6, 0, 1, 0, 0])\n",
      "true tensor([0, 0, 3, 0, 3, 5, 0, 3, 1, 0, 4, 0, 1, 0, 0, 6, 0, 1, 0, 0])\n",
      "28 acc:1.00\n",
      "outY tensor([0, 0, 2, 0, 0, 3, 3, 2, 5, 2, 0, 5, 4, 3, 2, 0, 0, 1, 6, 6])\n",
      "true tensor([0, 0, 2, 6, 6, 3, 3, 2, 5, 2, 0, 5, 4, 3, 2, 0, 0, 1, 6, 6])\n",
      "29 acc:0.90\n",
      "outY tensor([5, 0, 1, 0, 5, 1, 5, 1, 4, 3, 0, 1, 5, 3, 3, 6, 1, 5, 4, 0])\n",
      "true tensor([5, 0, 1, 0, 5, 1, 5, 1, 4, 3, 0, 1, 5, 3, 3, 6, 1, 5, 4, 0])\n",
      "30 acc:1.00\n",
      "outY tensor([0, 1, 1, 0, 4, 0, 0, 5, 0, 2, 0, 2, 0, 3, 0, 0, 0, 5, 0, 0])\n",
      "true tensor([0, 1, 1, 0, 4, 0, 0, 5, 0, 2, 0, 2, 0, 3, 0, 0, 0, 5, 0, 0])\n",
      "31 acc:1.00\n"
     ]
    }
   ],
   "source": [
    "train_my.show_result(net, train_iter,30)"
   ]
  },
  {
   "cell_type": "code",
   "execution_count": 1,
   "metadata": {},
   "outputs": [],
   "source": [
    "import cv2"
   ]
  },
  {
   "cell_type": "code",
   "execution_count": 1,
   "metadata": {},
   "outputs": [],
   "source": [
    "x = [1,2,3.2,4.4,5.2]"
   ]
  },
  {
   "cell_type": "code",
   "execution_count": 16,
   "metadata": {},
   "outputs": [
    {
     "name": "stdout",
     "output_type": "stream",
     "text": [
      "values: 1\n",
      "clip: 2\n"
     ]
    },
    {
     "ename": "TypeError",
     "evalue": "minimum() takes 0 positional arguments but 5 were given",
     "output_type": "error",
     "traceback": [
      "\u001b[1;31m---------------------------------------------------------------------------\u001b[0m",
      "\u001b[1;31mTypeError\u001b[0m                                 Traceback (most recent call last)",
      "\u001b[1;32m<ipython-input-16-cf69fd6724ac>\u001b[0m in \u001b[0;36m<module>\u001b[1;34m\u001b[0m\n\u001b[0;32m      3\u001b[0m     \u001b[0mprint\u001b[0m\u001b[1;33m(\u001b[0m\u001b[1;34m\"clip:\"\u001b[0m\u001b[1;33m,\u001b[0m\u001b[0mclip\u001b[0m\u001b[1;33m)\u001b[0m\u001b[1;33m\u001b[0m\u001b[1;33m\u001b[0m\u001b[0m\n\u001b[0;32m      4\u001b[0m \u001b[0mminimum\u001b[0m\u001b[1;33m(\u001b[0m\u001b[0mvalues\u001b[0m \u001b[1;33m=\u001b[0m \u001b[1;36m1\u001b[0m\u001b[1;33m,\u001b[0m\u001b[0mclip\u001b[0m \u001b[1;33m=\u001b[0m \u001b[1;36m2\u001b[0m\u001b[1;33m)\u001b[0m\u001b[1;33m\u001b[0m\u001b[1;33m\u001b[0m\u001b[0m\n\u001b[1;32m----> 5\u001b[1;33m \u001b[0mminimum\u001b[0m\u001b[1;33m(\u001b[0m\u001b[1;36m1\u001b[0m\u001b[1;33m,\u001b[0m \u001b[1;36m5\u001b[0m\u001b[1;33m,\u001b[0m \u001b[1;36m2\u001b[0m\u001b[1;33m,\u001b[0m \u001b[1;33m-\u001b[0m\u001b[1;36m5\u001b[0m\u001b[1;33m,\u001b[0m \u001b[1;36m10\u001b[0m\u001b[1;33m)\u001b[0m \u001b[1;31m# Returns -5\u001b[0m\u001b[1;33m\u001b[0m\u001b[1;33m\u001b[0m\u001b[0m\n\u001b[0m\u001b[0;32m      6\u001b[0m \u001b[0mminimum\u001b[0m\u001b[1;33m(\u001b[0m\u001b[1;36m1\u001b[0m\u001b[1;33m,\u001b[0m \u001b[1;36m5\u001b[0m\u001b[1;33m,\u001b[0m \u001b[1;36m2\u001b[0m\u001b[1;33m,\u001b[0m \u001b[1;33m-\u001b[0m\u001b[1;36m5\u001b[0m\u001b[1;33m,\u001b[0m \u001b[1;36m10\u001b[0m\u001b[1;33m,\u001b[0m \u001b[0mclip\u001b[0m\u001b[1;33m=\u001b[0m\u001b[1;36m0\u001b[0m\u001b[1;33m)\u001b[0m \u001b[1;31m# Returns 0\u001b[0m\u001b[1;33m\u001b[0m\u001b[1;33m\u001b[0m\u001b[0m\n",
      "\u001b[1;31mTypeError\u001b[0m: minimum() takes 0 positional arguments but 5 were given"
     ]
    }
   ],
   "source": [
    "def minimum(*,values, clip=None):\n",
    "    print(\"values:\",values)\n",
    "    print(\"clip:\",clip)\n",
    "minimum(values = 1,clip = 2)\n",
    "minimum(1, 5, 2, -5, 10) # TypeError: minimum() takes 0 positional arguments but 5 were given\n"
   ]
  },
  {
   "cell_type": "code",
   "execution_count": 13,
   "metadata": {},
   "outputs": [
    {
     "name": "stdout",
     "output_type": "stream",
     "text": [
      "values: 1\n",
      "clip: 2\n"
     ]
    },
    {
     "ename": "TypeError",
     "evalue": "minimum() takes 1 positional argument but 5 were given",
     "output_type": "error",
     "traceback": [
      "\u001b[1;31m---------------------------------------------------------------------------\u001b[0m",
      "\u001b[1;31mTypeError\u001b[0m                                 Traceback (most recent call last)",
      "\u001b[1;32m<ipython-input-13-c92f17a0b43a>\u001b[0m in \u001b[0;36m<module>\u001b[1;34m\u001b[0m\n\u001b[0;32m      3\u001b[0m     \u001b[0mprint\u001b[0m\u001b[1;33m(\u001b[0m\u001b[1;34m\"clip:\"\u001b[0m\u001b[1;33m,\u001b[0m\u001b[0mclip\u001b[0m\u001b[1;33m)\u001b[0m\u001b[1;33m\u001b[0m\u001b[1;33m\u001b[0m\u001b[0m\n\u001b[0;32m      4\u001b[0m \u001b[0mminimum\u001b[0m\u001b[1;33m(\u001b[0m\u001b[1;36m1\u001b[0m\u001b[1;33m,\u001b[0m\u001b[0mclip\u001b[0m \u001b[1;33m=\u001b[0m \u001b[1;36m2\u001b[0m\u001b[1;33m)\u001b[0m\u001b[1;33m\u001b[0m\u001b[1;33m\u001b[0m\u001b[0m\n\u001b[1;32m----> 5\u001b[1;33m \u001b[0mminimum\u001b[0m\u001b[1;33m(\u001b[0m\u001b[1;36m1\u001b[0m\u001b[1;33m,\u001b[0m \u001b[1;36m5\u001b[0m\u001b[1;33m,\u001b[0m \u001b[1;36m2\u001b[0m\u001b[1;33m,\u001b[0m \u001b[1;33m-\u001b[0m\u001b[1;36m5\u001b[0m\u001b[1;33m,\u001b[0m \u001b[1;36m10\u001b[0m\u001b[1;33m)\u001b[0m \u001b[1;31m# Returns -5\u001b[0m\u001b[1;33m\u001b[0m\u001b[1;33m\u001b[0m\u001b[0m\n\u001b[0m\u001b[0;32m      6\u001b[0m \u001b[0mminimum\u001b[0m\u001b[1;33m(\u001b[0m\u001b[1;36m1\u001b[0m\u001b[1;33m,\u001b[0m \u001b[1;36m5\u001b[0m\u001b[1;33m,\u001b[0m \u001b[1;36m2\u001b[0m\u001b[1;33m,\u001b[0m \u001b[1;33m-\u001b[0m\u001b[1;36m5\u001b[0m\u001b[1;33m,\u001b[0m \u001b[1;36m10\u001b[0m\u001b[1;33m,\u001b[0m \u001b[0mclip\u001b[0m\u001b[1;33m=\u001b[0m\u001b[1;36m0\u001b[0m\u001b[1;33m)\u001b[0m \u001b[1;31m# Returns 0\u001b[0m\u001b[1;33m\u001b[0m\u001b[1;33m\u001b[0m\u001b[0m\n",
      "\u001b[1;31mTypeError\u001b[0m: minimum() takes 1 positional argument but 5 were given"
     ]
    }
   ],
   "source": [
    "def minimum(values, *,clip):\n",
    "    print(\"values:\",values)\n",
    "    print(\"clip:\",clip)\n",
    "minimum(1,clip = 2)\n",
    "minimum(1, 5, 2, -5, 10) # Returns -5\n",
    "minimum(1, 5, 2, -5, 10, clip=0) # Returns 0"
   ]
  },
  {
   "cell_type": "code",
   "execution_count": 53,
   "metadata": {},
   "outputs": [
    {
     "name": "stdout",
     "output_type": "stream",
     "text": [
      "3\n",
      "2\n",
      "1\n"
     ]
    }
   ],
   "source": [
    "def y(n):\n",
    "    '''迭代'''\n",
    "    while n>0:\n",
    "        yield n\n",
    "        n = n - 1\n",
    "x =  y(3)\n",
    "for i in x:\n",
    "    print(i)\n",
    "\n"
   ]
  },
  {
   "cell_type": "code",
   "execution_count": 23,
   "metadata": {},
   "outputs": [],
   "source": [
    "import cv2\n",
    "import numpy as np\n",
    "import matplotlib.pyplot as plt\n"
   ]
  },
  {
   "cell_type": "code",
   "execution_count": 50,
   "metadata": {},
   "outputs": [],
   "source": [
    "def colormap(x):\n",
    "        arr3 =[0,0,0]\n",
    "        if(x >= 0 and x<= 31):\n",
    "            arr3[0] = 0 + 4*x\n",
    "            arr3[1] = 0\n",
    "            arr3[2] = 0\n",
    "        \n",
    "        elif(x >= 32 and x <=95 ) :\n",
    "            arr3[0] = 255\n",
    "            arr3[1] = 4*(x - 32)\n",
    "            arr3[2] = 0\n",
    "     \n",
    "        elif(x>= 96 and x <= 169):\n",
    "     \n",
    "            arr3[0] = 255 - 4*(x - 96)\n",
    "            arr3[1] = 255\n",
    "            arr3[2] = 4*(x - 96)\n",
    " \n",
    "        elif(x>=170 and x< 200):\n",
    "      \n",
    "            arr3[0] = 0\n",
    "            arr3[1] = 255-4*(x - 170)\n",
    "            arr3[2] = 255\n",
    "   \n",
    "        else:\n",
    "       \n",
    "            arr3[0] = 0\n",
    "            arr3[1] = 255\n",
    "            arr3[2] = 255 - 4*(x - 200)\n",
    "       \n",
    "        return arr3\n",
    "\n"
   ]
  },
  {
   "cell_type": "code",
   "execution_count": 55,
   "metadata": {},
   "outputs": [],
   "source": [
    "\n",
    "c = np.array([colormap(x) for x in range(255) ],np.uint8)\n",
    "   # x = cv2.applyColorMap(c,cv2.COLORMAP_JET)\n",
    "colorbar = np.zeros((50,255*10,3))\n",
    "for x in range(50):\n",
    "    for y in range(255):\n",
    "        for i in range(10):\n",
    "            colorbar[x][y*10 + i] = colormap(y)[::-1]\n",
    "            print(colorbar)\n",
    "cv2.imshow(\"ds\",colorbar)\n"
   ]
  },
  {
   "cell_type": "code",
   "execution_count": 59,
   "metadata": {},
   "outputs": [
    {
     "name": "stderr",
     "output_type": "stream",
     "text": [
      "Clipping input data to the valid range for imshow with RGB data ([0..1] for floats or [0..255] for integers).\n"
     ]
    },
    {
     "data": {
      "text/plain": [
       "<matplotlib.image.AxesImage at 0x19c651e88d0>"
      ]
     },
     "execution_count": 59,
     "metadata": {},
     "output_type": "execute_result"
    },
    {
     "data": {
      "image/png": "[encoded data removed]",
      "text/plain": [
       "<Figure size 1008x1656 with 1 Axes>"
      ]
     },
     "metadata": {
      "needs_background": "light"
     },
     "output_type": "display_data"
    }
   ],
   "source": [
    "plt.figure(\"1\",(14,23))\n",
    "plt.imshow(colorbar)"
   ]
  }
 ],
 "metadata": {
  "kernelspec": {
   "display_name": "Python 3.7.3 ('base')",
   "language": "python",
   "name": "python3"
  },
  "language_info": {
   "codemirror_mode": {
    "name": "ipython",
    "version": 3
   },
   "file_extension": ".py",
   "mimetype": "text/x-python",
   "name": "python",
   "nbconvert_exporter": "python",
   "pygments_lexer": "ipython3",
   "version": "3.7.3"
  },
  "orig_nbformat": 4,
  "vscode": {
   "interpreter": {
    "hash": "e42634819b8c191a5d07eaf23810ff32516dd8d3875f28ec3e488928fbd3c187"
   }
  }
 },
 "nbformat": 4,
 "nbformat_minor": 2
}

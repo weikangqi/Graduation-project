{
 "cells": [
  {
   "cell_type": "code",
   "execution_count": 1,
   "metadata": {},
   "outputs": [
    {
     "name": "stdout",
     "output_type": "stream",
     "text": [
      "Using cuda device\n"
     ]
    }
   ],
   "source": [
    "import torch\n",
    "import train_my \n",
    "from train_my import mydataset\n",
    "import torch.utils.data as Data"
   ]
  },
  {
   "cell_type": "code",
   "execution_count": 2,
   "metadata": {},
   "outputs": [
    {
     "name": "stdout",
     "output_type": "stream",
     "text": [
      "0.weight\n",
      "0.bias\n",
      "2.weight\n",
      "2.bias\n",
      "2.running_mean\n",
      "2.running_var\n",
      "2.num_batches_tracked\n",
      "3.weight\n",
      "3.bias\n",
      "5.weight\n",
      "5.bias\n",
      "5.running_mean\n",
      "5.running_var\n",
      "5.num_batches_tracked\n",
      "6.weight\n",
      "6.bias\n",
      "8.weight\n",
      "8.bias\n",
      "8.running_mean\n",
      "8.running_var\n",
      "8.num_batches_tracked\n",
      "9.weight\n",
      "9.bias\n",
      "11.weight\n",
      "11.bias\n",
      "11.running_mean\n",
      "11.running_var\n",
      "11.num_batches_tracked\n",
      "12.weight\n",
      "12.bias\n"
     ]
    },
    {
     "data": {
      "text/plain": [
       "<All keys matched successfully>"
      ]
     },
     "execution_count": 2,
     "metadata": {},
     "output_type": "execute_result"
    }
   ],
   "source": [
    "\n",
    "net = train_my.net\n",
    "state_dic = torch.load('./classification.pth')\n",
    "new_state={}\n",
    "for k,v in state_dic.items(): #去除关键字”model\"\n",
    "    new_state=v\n",
    "for k,v in new_state.items():\n",
    "    print(k)\n",
    "net.load_state_dict(new_state)\n"
   ]
  },
  {
   "cell_type": "code",
   "execution_count": 3,
   "metadata": {},
   "outputs": [],
   "source": [
    "data = mydataset()\n",
    "batch_size = 20\n",
    "x = torch.tensor(data)         # 前五个数据\n",
    "y = torch.tensor(data.labels)  # 标签\n",
    "torch_dataset = Data.TensorDataset(x, y)\n",
    "train_iter = Data.DataLoader(\n",
    "    # 从数据库中每次抽出batch size个样本\n",
    "    dataset=torch_dataset,       # torch TensorDataset format\n",
    "    batch_size=batch_size,                # mini batch size\n",
    "    shuffle=True,                  # 要不要打乱数据 (打乱比较好)\n",
    "    num_workers=0,                 # 多线程来读数据\n",
    ")"
   ]
  },
  {
   "cell_type": "code",
   "execution_count": 4,
   "metadata": {},
   "outputs": [
    {
     "name": "stdout",
     "output_type": "stream",
     "text": [
      "outY tensor([0, 0, 1, 2, 2, 0, 0, 4, 0, 0, 6, 6, 0, 1, 3, 6, 5, 2, 5, 0])\n",
      "true tensor([0, 0, 1, 2, 2, 0, 0, 4, 0, 0, 6, 6, 0, 1, 3, 6, 5, 2, 5, 0])\n",
      "1 acc:1.00\n",
      "outY tensor([1, 0, 2, 1, 0, 6, 5, 2, 2, 0, 0, 4, 5, 0, 3, 0, 1, 3, 4, 3])\n",
      "true tensor([1, 0, 2, 1, 0, 6, 5, 2, 2, 0, 0, 4, 5, 0, 3, 0, 1, 3, 4, 3])\n",
      "2 acc:1.00\n",
      "outY tensor([2, 3, 1, 0, 0, 3, 6, 5, 4, 3, 0, 2, 0, 5, 0, 0, 2, 1, 1, 5])\n",
      "true tensor([2, 3, 1, 0, 0, 3, 6, 5, 4, 3, 0, 2, 0, 5, 0, 0, 2, 1, 1, 5])\n",
      "3 acc:1.00\n",
      "outY tensor([0, 0, 0, 4, 4, 0, 0, 2, 1, 0, 0, 0, 3, 0, 0, 4, 5, 3, 1, 0])\n",
      "true tensor([0, 0, 0, 4, 4, 0, 0, 2, 1, 0, 0, 0, 3, 0, 0, 4, 5, 3, 1, 0])\n",
      "4 acc:1.00\n",
      "outY tensor([5, 3, 5, 0, 4, 1, 3, 5, 0, 3, 4, 0, 2, 0, 2, 0, 4, 5, 4, 0])\n",
      "true tensor([5, 3, 5, 0, 4, 1, 3, 5, 0, 3, 4, 0, 2, 0, 2, 0, 4, 5, 4, 0])\n",
      "5 acc:1.00\n",
      "outY tensor([0, 5, 5, 0, 2, 0, 0, 0, 1, 4, 0, 4, 4, 0, 0, 3, 0, 1, 4, 4])\n",
      "true tensor([0, 5, 5, 0, 2, 0, 0, 0, 1, 4, 0, 4, 4, 0, 0, 3, 0, 1, 4, 4])\n",
      "6 acc:1.00\n",
      "outY tensor([2, 0, 4, 5, 0, 1, 5, 0, 1, 6, 0, 0, 0, 0, 3, 3, 0, 0, 1, 0])\n",
      "true tensor([2, 0, 4, 5, 0, 1, 5, 0, 1, 6, 0, 0, 0, 6, 3, 3, 0, 0, 1, 0])\n",
      "7 acc:0.95\n",
      "outY tensor([1, 3, 3, 0, 1, 1, 1, 0, 0, 0, 0, 5, 2, 5, 0, 0, 0, 3, 0, 6])\n",
      "true tensor([1, 3, 3, 0, 1, 1, 1, 0, 0, 0, 0, 5, 2, 5, 0, 0, 0, 3, 0, 6])\n",
      "8 acc:1.00\n",
      "outY tensor([3, 0, 0, 4, 0, 0, 0, 0, 0, 5, 0, 4, 0, 0, 2, 1, 0, 3, 0, 2])\n",
      "true tensor([3, 0, 0, 4, 0, 0, 0, 0, 0, 5, 0, 4, 0, 0, 2, 6, 0, 0, 0, 2])\n",
      "9 acc:0.90\n",
      "outY tensor([0, 0, 0, 5, 0, 2, 0, 5, 3, 3, 0, 3, 6, 0, 0, 1, 5, 4, 2, 0])\n",
      "true tensor([0, 0, 0, 5, 0, 2, 0, 5, 3, 3, 0, 3, 6, 0, 0, 1, 5, 4, 2, 0])\n",
      "10 acc:1.00\n",
      "outY tensor([1, 3, 5, 5, 4, 0, 1, 0, 0, 0, 0, 4, 0, 3, 1, 1, 1, 0, 4, 3])\n",
      "true tensor([1, 3, 5, 5, 4, 0, 1, 0, 0, 0, 0, 4, 0, 3, 1, 1, 1, 0, 4, 3])\n",
      "11 acc:1.00\n",
      "outY tensor([5, 5, 4, 4, 0, 5, 4, 1, 0, 0, 1, 5, 0, 3, 2, 4, 1, 3, 0, 5])\n",
      "true tensor([5, 5, 4, 4, 0, 5, 4, 1, 0, 0, 1, 5, 0, 3, 2, 4, 1, 3, 0, 5])\n",
      "12 acc:1.00\n",
      "outY tensor([4, 5, 3, 0, 2, 0, 0, 4, 6, 0, 2, 1, 5, 3, 0, 4, 0, 1, 5, 0])\n",
      "true tensor([4, 5, 3, 0, 2, 0, 0, 4, 6, 0, 2, 1, 5, 3, 0, 4, 0, 1, 5, 0])\n",
      "13 acc:1.00\n",
      "outY tensor([0, 4, 0, 3, 6, 2, 0, 0, 0, 1, 6, 2, 5, 0, 0, 4, 3, 5, 0, 0])\n",
      "true tensor([0, 4, 0, 3, 6, 2, 0, 0, 0, 1, 6, 2, 5, 0, 0, 4, 3, 5, 0, 0])\n",
      "14 acc:1.00\n",
      "outY tensor([4, 0, 0, 5, 1, 5, 0, 2, 0, 0, 1, 3, 2, 6, 3, 4, 0, 0, 0, 0])\n",
      "true tensor([4, 0, 0, 5, 1, 5, 0, 2, 0, 0, 1, 3, 2, 6, 3, 4, 0, 0, 0, 0])\n",
      "15 acc:1.00\n",
      "outY tensor([4, 1, 2, 0, 1, 2, 4, 0, 2, 0, 4, 2, 2, 0, 0, 4, 0, 5, 3, 5])\n",
      "true tensor([4, 1, 2, 0, 1, 2, 4, 0, 2, 0, 4, 2, 2, 0, 0, 4, 0, 5, 3, 5])\n",
      "16 acc:1.00\n",
      "outY tensor([5, 0, 0, 1, 0, 0, 5, 0, 0, 2, 0, 4, 3, 0, 4, 4, 3, 0, 0, 1])\n",
      "true tensor([5, 0, 0, 0, 0, 0, 5, 0, 0, 2, 0, 4, 3, 0, 4, 4, 3, 0, 0, 0])\n",
      "17 acc:0.90\n",
      "outY tensor([4, 0, 4, 0, 6, 3, 3, 0, 0, 0, 0, 1, 6, 0, 4, 2, 4, 5, 3, 3])\n",
      "true tensor([4, 0, 4, 0, 6, 3, 3, 0, 0, 0, 0, 1, 6, 0, 4, 2, 4, 5, 3, 3])\n",
      "18 acc:1.00\n",
      "outY tensor([0, 6, 6, 0, 0, 1, 2, 0, 2, 0, 5, 3, 4, 3, 0, 4, 5, 0, 0, 5])\n",
      "true tensor([0, 6, 6, 0, 0, 6, 2, 0, 2, 0, 5, 3, 4, 3, 0, 4, 5, 0, 0, 5])\n",
      "19 acc:0.95\n",
      "outY tensor([4, 1, 0, 5, 4, 3, 4, 0, 3, 2, 4, 1, 0, 0, 0, 2, 3, 0, 1, 2])\n",
      "true tensor([4, 1, 0, 5, 4, 3, 4, 0, 3, 2, 4, 1, 6, 0, 0, 2, 3, 0, 1, 2])\n",
      "20 acc:0.95\n",
      "outY tensor([0, 0, 0, 0, 4, 5, 0, 0, 5, 0, 3, 3, 1, 4, 0, 2, 1, 0, 0, 0])\n",
      "true tensor([0, 0, 0, 0, 4, 5, 0, 0, 5, 0, 3, 3, 1, 4, 0, 2, 1, 0, 0, 0])\n",
      "21 acc:1.00\n",
      "outY tensor([0, 0, 0, 1, 1, 1, 4, 0, 4, 0, 0, 5, 1, 1, 0, 2, 1, 0, 4, 0])\n",
      "true tensor([0, 0, 0, 1, 1, 1, 4, 0, 4, 0, 0, 5, 1, 1, 0, 2, 1, 0, 4, 0])\n",
      "22 acc:1.00\n",
      "outY tensor([1, 0, 0, 4, 2, 3, 1, 0, 4, 3, 2, 1, 3, 0, 1, 4, 0, 0, 0, 2])\n",
      "true tensor([1, 0, 0, 4, 2, 3, 1, 0, 4, 3, 2, 1, 3, 0, 1, 4, 0, 0, 0, 2])\n",
      "23 acc:1.00\n",
      "outY tensor([5, 2, 3, 4, 5, 6, 1, 0, 5, 4, 2, 3, 0, 1, 5, 1, 3, 6, 0, 5])\n",
      "true tensor([5, 2, 3, 4, 5, 6, 1, 0, 5, 4, 2, 3, 0, 1, 5, 1, 3, 6, 0, 5])\n",
      "24 acc:1.00\n",
      "outY tensor([5, 4, 5, 0, 4, 3, 0, 0, 3, 0, 3, 6, 0, 2, 0, 2, 0, 1, 0, 1])\n",
      "true tensor([5, 0, 5, 0, 0, 3, 0, 0, 3, 0, 3, 6, 0, 2, 0, 2, 0, 1, 0, 1])\n",
      "25 acc:0.90\n",
      "outY tensor([0, 6, 4, 0, 4, 3, 4, 4, 5, 0, 0, 3, 2, 3, 1, 0, 3, 3, 1, 3])\n",
      "true tensor([0, 6, 4, 0, 4, 3, 4, 4, 5, 0, 0, 3, 2, 3, 1, 0, 3, 3, 1, 3])\n",
      "26 acc:1.00\n",
      "outY tensor([0, 0, 0, 1, 0, 4, 0, 6, 0, 0, 3, 5, 3, 0, 0, 6, 3, 4, 2, 0])\n",
      "true tensor([0, 0, 0, 1, 0, 4, 0, 6, 0, 0, 3, 5, 3, 0, 0, 6, 3, 4, 2, 0])\n",
      "27 acc:1.00\n",
      "outY tensor([0, 0, 3, 0, 3, 5, 0, 3, 1, 0, 4, 0, 1, 0, 0, 6, 0, 1, 0, 0])\n",
      "true tensor([0, 0, 3, 0, 3, 5, 0, 3, 1, 0, 4, 0, 1, 0, 0, 6, 0, 1, 0, 0])\n",
      "28 acc:1.00\n",
      "outY tensor([0, 0, 2, 0, 0, 3, 3, 2, 5, 2, 0, 5, 4, 3, 2, 0, 0, 1, 6, 6])\n",
      "true tensor([0, 0, 2, 6, 6, 3, 3, 2, 5, 2, 0, 5, 4, 3, 2, 0, 0, 1, 6, 6])\n",
      "29 acc:0.90\n",
      "outY tensor([5, 0, 1, 0, 5, 1, 5, 1, 4, 3, 0, 1, 5, 3, 3, 6, 1, 5, 4, 0])\n",
      "true tensor([5, 0, 1, 0, 5, 1, 5, 1, 4, 3, 0, 1, 5, 3, 3, 6, 1, 5, 4, 0])\n",
      "30 acc:1.00\n",
      "outY tensor([0, 1, 1, 0, 4, 0, 0, 5, 0, 2, 0, 2, 0, 3, 0, 0, 0, 5, 0, 0])\n",
      "true tensor([0, 1, 1, 0, 4, 0, 0, 5, 0, 2, 0, 2, 0, 3, 0, 0, 0, 5, 0, 0])\n",
      "31 acc:1.00\n"
     ]
    }
   ],
   "source": [
    "train_my.show_result(net, train_iter,30)"
   ]
  }
 ],
 "metadata": {
  "kernelspec": {
   "display_name": "Python 3.7.3 ('base')",
   "language": "python",
   "name": "python3"
  },
  "language_info": {
   "codemirror_mode": {
    "name": "ipython",
    "version": 3
   },
   "file_extension": ".py",
   "mimetype": "text/x-python",
   "name": "python",
   "nbconvert_exporter": "python",
   "pygments_lexer": "ipython3",
   "version": "3.7.3"
  },
  "orig_nbformat": 4,
  "vscode": {
   "interpreter": {
    "hash": "e42634819b8c191a5d07eaf23810ff32516dd8d3875f28ec3e488928fbd3c187"
   }
  }
 },
 "nbformat": 4,
 "nbformat_minor": 2
}
